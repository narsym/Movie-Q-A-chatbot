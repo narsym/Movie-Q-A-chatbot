{
  "nbformat": 4,
  "nbformat_minor": 0,
  "metadata": {
    "colab": {
      "name": "Q and A model.ipynb",
      "provenance": [],
      "collapsed_sections": [],
      "authorship_tag": "ABX9TyNblz3DGiBmV1z6yAse3O3l",
      "include_colab_link": true
    },
    "kernelspec": {
      "name": "python3",
      "display_name": "Python 3"
    }
  },
  "cells": [
    {
      "cell_type": "markdown",
      "metadata": {
        "id": "view-in-github",
        "colab_type": "text"
      },
      "source": [
        "<a href=\"https://colab.research.google.com/github/narsym/Movie-Q-A-chatbot/blob/main/Q_and_A_model.ipynb\" target=\"_parent\"><img src=\"https://colab.research.google.com/assets/colab-badge.svg\" alt=\"Open In Colab\"/></a>"
      ]
    },
    {
      "cell_type": "code",
      "metadata": {
        "id": "jC4FFk4rdUrn",
        "colab": {
          "base_uri": "https://localhost:8080/"
        },
        "outputId": "52283d20-fb4f-47b5-aaca-9b2d45a180ad"
      },
      "source": [
        "!pip install spacy\r\n",
        "!python -m spacy download en_core_web_sm"
      ],
      "execution_count": 1,
      "outputs": [
        {
          "output_type": "stream",
          "text": [
            "Requirement already satisfied: spacy in /usr/local/lib/python3.6/dist-packages (2.2.4)\n",
            "Requirement already satisfied: requests<3.0.0,>=2.13.0 in /usr/local/lib/python3.6/dist-packages (from spacy) (2.23.0)\n",
            "Requirement already satisfied: plac<1.2.0,>=0.9.6 in /usr/local/lib/python3.6/dist-packages (from spacy) (1.1.3)\n",
            "Requirement already satisfied: wasabi<1.1.0,>=0.4.0 in /usr/local/lib/python3.6/dist-packages (from spacy) (0.8.2)\n",
            "Requirement already satisfied: numpy>=1.15.0 in /usr/local/lib/python3.6/dist-packages (from spacy) (1.19.5)\n",
            "Requirement already satisfied: setuptools in /usr/local/lib/python3.6/dist-packages (from spacy) (53.0.0)\n",
            "Requirement already satisfied: thinc==7.4.0 in /usr/local/lib/python3.6/dist-packages (from spacy) (7.4.0)\n",
            "Requirement already satisfied: blis<0.5.0,>=0.4.0 in /usr/local/lib/python3.6/dist-packages (from spacy) (0.4.1)\n",
            "Requirement already satisfied: preshed<3.1.0,>=3.0.2 in /usr/local/lib/python3.6/dist-packages (from spacy) (3.0.5)\n",
            "Requirement already satisfied: murmurhash<1.1.0,>=0.28.0 in /usr/local/lib/python3.6/dist-packages (from spacy) (1.0.5)\n",
            "Requirement already satisfied: cymem<2.1.0,>=2.0.2 in /usr/local/lib/python3.6/dist-packages (from spacy) (2.0.5)\n",
            "Requirement already satisfied: catalogue<1.1.0,>=0.0.7 in /usr/local/lib/python3.6/dist-packages (from spacy) (1.0.0)\n",
            "Requirement already satisfied: tqdm<5.0.0,>=4.38.0 in /usr/local/lib/python3.6/dist-packages (from spacy) (4.41.1)\n",
            "Requirement already satisfied: srsly<1.1.0,>=1.0.2 in /usr/local/lib/python3.6/dist-packages (from spacy) (1.0.5)\n",
            "Requirement already satisfied: idna<3,>=2.5 in /usr/local/lib/python3.6/dist-packages (from requests<3.0.0,>=2.13.0->spacy) (2.10)\n",
            "Requirement already satisfied: certifi>=2017.4.17 in /usr/local/lib/python3.6/dist-packages (from requests<3.0.0,>=2.13.0->spacy) (2020.12.5)\n",
            "Requirement already satisfied: chardet<4,>=3.0.2 in /usr/local/lib/python3.6/dist-packages (from requests<3.0.0,>=2.13.0->spacy) (3.0.4)\n",
            "Requirement already satisfied: urllib3!=1.25.0,!=1.25.1,<1.26,>=1.21.1 in /usr/local/lib/python3.6/dist-packages (from requests<3.0.0,>=2.13.0->spacy) (1.24.3)\n",
            "Requirement already satisfied: importlib-metadata>=0.20; python_version < \"3.8\" in /usr/local/lib/python3.6/dist-packages (from catalogue<1.1.0,>=0.0.7->spacy) (3.4.0)\n",
            "Requirement already satisfied: typing-extensions>=3.6.4; python_version < \"3.8\" in /usr/local/lib/python3.6/dist-packages (from importlib-metadata>=0.20; python_version < \"3.8\"->catalogue<1.1.0,>=0.0.7->spacy) (3.7.4.3)\n",
            "Requirement already satisfied: zipp>=0.5 in /usr/local/lib/python3.6/dist-packages (from importlib-metadata>=0.20; python_version < \"3.8\"->catalogue<1.1.0,>=0.0.7->spacy) (3.4.0)\n",
            "Requirement already satisfied: en_core_web_sm==2.2.5 from https://github.com/explosion/spacy-models/releases/download/en_core_web_sm-2.2.5/en_core_web_sm-2.2.5.tar.gz#egg=en_core_web_sm==2.2.5 in /usr/local/lib/python3.6/dist-packages (2.2.5)\n",
            "Requirement already satisfied: spacy>=2.2.2 in /usr/local/lib/python3.6/dist-packages (from en_core_web_sm==2.2.5) (2.2.4)\n",
            "Requirement already satisfied: blis<0.5.0,>=0.4.0 in /usr/local/lib/python3.6/dist-packages (from spacy>=2.2.2->en_core_web_sm==2.2.5) (0.4.1)\n",
            "Requirement already satisfied: srsly<1.1.0,>=1.0.2 in /usr/local/lib/python3.6/dist-packages (from spacy>=2.2.2->en_core_web_sm==2.2.5) (1.0.5)\n",
            "Requirement already satisfied: plac<1.2.0,>=0.9.6 in /usr/local/lib/python3.6/dist-packages (from spacy>=2.2.2->en_core_web_sm==2.2.5) (1.1.3)\n",
            "Requirement already satisfied: numpy>=1.15.0 in /usr/local/lib/python3.6/dist-packages (from spacy>=2.2.2->en_core_web_sm==2.2.5) (1.19.5)\n",
            "Requirement already satisfied: cymem<2.1.0,>=2.0.2 in /usr/local/lib/python3.6/dist-packages (from spacy>=2.2.2->en_core_web_sm==2.2.5) (2.0.5)\n",
            "Requirement already satisfied: thinc==7.4.0 in /usr/local/lib/python3.6/dist-packages (from spacy>=2.2.2->en_core_web_sm==2.2.5) (7.4.0)\n",
            "Requirement already satisfied: tqdm<5.0.0,>=4.38.0 in /usr/local/lib/python3.6/dist-packages (from spacy>=2.2.2->en_core_web_sm==2.2.5) (4.41.1)\n",
            "Requirement already satisfied: wasabi<1.1.0,>=0.4.0 in /usr/local/lib/python3.6/dist-packages (from spacy>=2.2.2->en_core_web_sm==2.2.5) (0.8.2)\n",
            "Requirement already satisfied: requests<3.0.0,>=2.13.0 in /usr/local/lib/python3.6/dist-packages (from spacy>=2.2.2->en_core_web_sm==2.2.5) (2.23.0)\n",
            "Requirement already satisfied: preshed<3.1.0,>=3.0.2 in /usr/local/lib/python3.6/dist-packages (from spacy>=2.2.2->en_core_web_sm==2.2.5) (3.0.5)\n",
            "Requirement already satisfied: setuptools in /usr/local/lib/python3.6/dist-packages (from spacy>=2.2.2->en_core_web_sm==2.2.5) (53.0.0)\n",
            "Requirement already satisfied: catalogue<1.1.0,>=0.0.7 in /usr/local/lib/python3.6/dist-packages (from spacy>=2.2.2->en_core_web_sm==2.2.5) (1.0.0)\n",
            "Requirement already satisfied: murmurhash<1.1.0,>=0.28.0 in /usr/local/lib/python3.6/dist-packages (from spacy>=2.2.2->en_core_web_sm==2.2.5) (1.0.5)\n",
            "Requirement already satisfied: urllib3!=1.25.0,!=1.25.1,<1.26,>=1.21.1 in /usr/local/lib/python3.6/dist-packages (from requests<3.0.0,>=2.13.0->spacy>=2.2.2->en_core_web_sm==2.2.5) (1.24.3)\n",
            "Requirement already satisfied: chardet<4,>=3.0.2 in /usr/local/lib/python3.6/dist-packages (from requests<3.0.0,>=2.13.0->spacy>=2.2.2->en_core_web_sm==2.2.5) (3.0.4)\n",
            "Requirement already satisfied: certifi>=2017.4.17 in /usr/local/lib/python3.6/dist-packages (from requests<3.0.0,>=2.13.0->spacy>=2.2.2->en_core_web_sm==2.2.5) (2020.12.5)\n",
            "Requirement already satisfied: idna<3,>=2.5 in /usr/local/lib/python3.6/dist-packages (from requests<3.0.0,>=2.13.0->spacy>=2.2.2->en_core_web_sm==2.2.5) (2.10)\n",
            "Requirement already satisfied: importlib-metadata>=0.20; python_version < \"3.8\" in /usr/local/lib/python3.6/dist-packages (from catalogue<1.1.0,>=0.0.7->spacy>=2.2.2->en_core_web_sm==2.2.5) (3.4.0)\n",
            "Requirement already satisfied: typing-extensions>=3.6.4; python_version < \"3.8\" in /usr/local/lib/python3.6/dist-packages (from importlib-metadata>=0.20; python_version < \"3.8\"->catalogue<1.1.0,>=0.0.7->spacy>=2.2.2->en_core_web_sm==2.2.5) (3.7.4.3)\n",
            "Requirement already satisfied: zipp>=0.5 in /usr/local/lib/python3.6/dist-packages (from importlib-metadata>=0.20; python_version < \"3.8\"->catalogue<1.1.0,>=0.0.7->spacy>=2.2.2->en_core_web_sm==2.2.5) (3.4.0)\n",
            "\u001b[38;5;2m✔ Download and installation successful\u001b[0m\n",
            "You can now load the model via spacy.load('en_core_web_sm')\n"
          ],
          "name": "stdout"
        }
      ]
    },
    {
      "cell_type": "code",
      "metadata": {
        "id": "jcFTYeIFdfT9",
        "colab": {
          "base_uri": "https://localhost:8080/"
        },
        "outputId": "10e9016f-5d3e-4268-8e31-e716a41e4e2b"
      },
      "source": [
        "pip install wikipedia"
      ],
      "execution_count": 2,
      "outputs": [
        {
          "output_type": "stream",
          "text": [
            "Collecting wikipedia\n",
            "  Downloading https://files.pythonhosted.org/packages/67/35/25e68fbc99e672127cc6fbb14b8ec1ba3dfef035bf1e4c90f78f24a80b7d/wikipedia-1.4.0.tar.gz\n",
            "Requirement already satisfied: beautifulsoup4 in /usr/local/lib/python3.6/dist-packages (from wikipedia) (4.6.3)\n",
            "Requirement already satisfied: requests<3.0.0,>=2.0.0 in /usr/local/lib/python3.6/dist-packages (from wikipedia) (2.23.0)\n",
            "Requirement already satisfied: chardet<4,>=3.0.2 in /usr/local/lib/python3.6/dist-packages (from requests<3.0.0,>=2.0.0->wikipedia) (3.0.4)\n",
            "Requirement already satisfied: urllib3!=1.25.0,!=1.25.1,<1.26,>=1.21.1 in /usr/local/lib/python3.6/dist-packages (from requests<3.0.0,>=2.0.0->wikipedia) (1.24.3)\n",
            "Requirement already satisfied: certifi>=2017.4.17 in /usr/local/lib/python3.6/dist-packages (from requests<3.0.0,>=2.0.0->wikipedia) (2020.12.5)\n",
            "Requirement already satisfied: idna<3,>=2.5 in /usr/local/lib/python3.6/dist-packages (from requests<3.0.0,>=2.0.0->wikipedia) (2.10)\n",
            "Building wheels for collected packages: wikipedia\n",
            "  Building wheel for wikipedia (setup.py) ... \u001b[?25l\u001b[?25hdone\n",
            "  Created wheel for wikipedia: filename=wikipedia-1.4.0-cp36-none-any.whl size=11686 sha256=b72f9adcdbbf6f1372ca914554ba290b79e9f0c61ab33725f58163d6158adc38\n",
            "  Stored in directory: /root/.cache/pip/wheels/87/2a/18/4e471fd96d12114d16fe4a446d00c3b38fb9efcb744bd31f4a\n",
            "Successfully built wikipedia\n",
            "Installing collected packages: wikipedia\n",
            "Successfully installed wikipedia-1.4.0\n"
          ],
          "name": "stdout"
        }
      ]
    },
    {
      "cell_type": "code",
      "metadata": {
        "id": "_GbEjSobdrQx",
        "colab": {
          "base_uri": "https://localhost:8080/"
        },
        "outputId": "861eb68e-b48b-446c-8a35-1f458f432dd9"
      },
      "source": [
        "pip install gensim"
      ],
      "execution_count": 3,
      "outputs": [
        {
          "output_type": "stream",
          "text": [
            "Requirement already satisfied: gensim in /usr/local/lib/python3.6/dist-packages (3.6.0)\n",
            "Requirement already satisfied: scipy>=0.18.1 in /usr/local/lib/python3.6/dist-packages (from gensim) (1.4.1)\n",
            "Requirement already satisfied: smart-open>=1.2.1 in /usr/local/lib/python3.6/dist-packages (from gensim) (4.1.2)\n",
            "Requirement already satisfied: six>=1.5.0 in /usr/local/lib/python3.6/dist-packages (from gensim) (1.15.0)\n",
            "Requirement already satisfied: numpy>=1.11.3 in /usr/local/lib/python3.6/dist-packages (from gensim) (1.19.5)\n"
          ],
          "name": "stdout"
        }
      ]
    },
    {
      "cell_type": "code",
      "metadata": {
        "id": "bpAiiRk2duUB",
        "colab": {
          "base_uri": "https://localhost:8080/"
        },
        "outputId": "720b6ea7-04f6-4331-9234-c742d5c55aaf"
      },
      "source": [
        "!pip install torch\r\n",
        "!pip install transformers"
      ],
      "execution_count": 4,
      "outputs": [
        {
          "output_type": "stream",
          "text": [
            "Requirement already satisfied: torch in /usr/local/lib/python3.6/dist-packages (1.7.0+cu101)\n",
            "Requirement already satisfied: dataclasses in /usr/local/lib/python3.6/dist-packages (from torch) (0.8)\n",
            "Requirement already satisfied: numpy in /usr/local/lib/python3.6/dist-packages (from torch) (1.19.5)\n",
            "Requirement already satisfied: future in /usr/local/lib/python3.6/dist-packages (from torch) (0.16.0)\n",
            "Requirement already satisfied: typing-extensions in /usr/local/lib/python3.6/dist-packages (from torch) (3.7.4.3)\n",
            "Collecting transformers\n",
            "\u001b[?25l  Downloading https://files.pythonhosted.org/packages/98/87/ef312eef26f5cecd8b17ae9654cdd8d1fae1eb6dbd87257d6d73c128a4d0/transformers-4.3.2-py3-none-any.whl (1.8MB)\n",
            "\u001b[K     |████████████████████████████████| 1.8MB 9.3MB/s \n",
            "\u001b[?25hCollecting tokenizers<0.11,>=0.10.1\n",
            "\u001b[?25l  Downloading https://files.pythonhosted.org/packages/fd/5b/44baae602e0a30bcc53fbdbc60bd940c15e143d252d658dfdefce736ece5/tokenizers-0.10.1-cp36-cp36m-manylinux2010_x86_64.whl (3.2MB)\n",
            "\u001b[K     |████████████████████████████████| 3.2MB 43.1MB/s \n",
            "\u001b[?25hRequirement already satisfied: regex!=2019.12.17 in /usr/local/lib/python3.6/dist-packages (from transformers) (2019.12.20)\n",
            "Requirement already satisfied: dataclasses; python_version < \"3.7\" in /usr/local/lib/python3.6/dist-packages (from transformers) (0.8)\n",
            "Requirement already satisfied: packaging in /usr/local/lib/python3.6/dist-packages (from transformers) (20.9)\n",
            "Requirement already satisfied: importlib-metadata; python_version < \"3.8\" in /usr/local/lib/python3.6/dist-packages (from transformers) (3.4.0)\n",
            "Collecting sacremoses\n",
            "\u001b[?25l  Downloading https://files.pythonhosted.org/packages/7d/34/09d19aff26edcc8eb2a01bed8e98f13a1537005d31e95233fd48216eed10/sacremoses-0.0.43.tar.gz (883kB)\n",
            "\u001b[K     |████████████████████████████████| 890kB 41.9MB/s \n",
            "\u001b[?25hRequirement already satisfied: requests in /usr/local/lib/python3.6/dist-packages (from transformers) (2.23.0)\n",
            "Requirement already satisfied: tqdm>=4.27 in /usr/local/lib/python3.6/dist-packages (from transformers) (4.41.1)\n",
            "Requirement already satisfied: numpy>=1.17 in /usr/local/lib/python3.6/dist-packages (from transformers) (1.19.5)\n",
            "Requirement already satisfied: filelock in /usr/local/lib/python3.6/dist-packages (from transformers) (3.0.12)\n",
            "Requirement already satisfied: pyparsing>=2.0.2 in /usr/local/lib/python3.6/dist-packages (from packaging->transformers) (2.4.7)\n",
            "Requirement already satisfied: zipp>=0.5 in /usr/local/lib/python3.6/dist-packages (from importlib-metadata; python_version < \"3.8\"->transformers) (3.4.0)\n",
            "Requirement already satisfied: typing-extensions>=3.6.4; python_version < \"3.8\" in /usr/local/lib/python3.6/dist-packages (from importlib-metadata; python_version < \"3.8\"->transformers) (3.7.4.3)\n",
            "Requirement already satisfied: six in /usr/local/lib/python3.6/dist-packages (from sacremoses->transformers) (1.15.0)\n",
            "Requirement already satisfied: click in /usr/local/lib/python3.6/dist-packages (from sacremoses->transformers) (7.1.2)\n",
            "Requirement already satisfied: joblib in /usr/local/lib/python3.6/dist-packages (from sacremoses->transformers) (1.0.0)\n",
            "Requirement already satisfied: urllib3!=1.25.0,!=1.25.1,<1.26,>=1.21.1 in /usr/local/lib/python3.6/dist-packages (from requests->transformers) (1.24.3)\n",
            "Requirement already satisfied: certifi>=2017.4.17 in /usr/local/lib/python3.6/dist-packages (from requests->transformers) (2020.12.5)\n",
            "Requirement already satisfied: chardet<4,>=3.0.2 in /usr/local/lib/python3.6/dist-packages (from requests->transformers) (3.0.4)\n",
            "Requirement already satisfied: idna<3,>=2.5 in /usr/local/lib/python3.6/dist-packages (from requests->transformers) (2.10)\n",
            "Building wheels for collected packages: sacremoses\n",
            "  Building wheel for sacremoses (setup.py) ... \u001b[?25l\u001b[?25hdone\n",
            "  Created wheel for sacremoses: filename=sacremoses-0.0.43-cp36-none-any.whl size=893261 sha256=e04f0effac52d3f4e027f278e02e09b40c382bb11281e35d4c1d6c782da45cf7\n",
            "  Stored in directory: /root/.cache/pip/wheels/29/3c/fd/7ce5c3f0666dab31a50123635e6fb5e19ceb42ce38d4e58f45\n",
            "Successfully built sacremoses\n",
            "Installing collected packages: tokenizers, sacremoses, transformers\n",
            "Successfully installed sacremoses-0.0.43 tokenizers-0.10.1 transformers-4.3.2\n"
          ],
          "name": "stdout"
        }
      ]
    },
    {
      "cell_type": "code",
      "metadata": {
        "id": "Bug3nqcvfHiG"
      },
      "source": [
        "\r\n",
        "from gensim.summarization.bm25 import BM25\r\n",
        "from transformers import DistilBertTokenizer, DistilBertForQuestionAnswering\r\n",
        "\r\n",
        "class QuestionProcessor:\r\n",
        "\r\n",
        "\r\n",
        "    def __init__(self, nlp):\r\n",
        "        self.pos = [\"NOUN\", \"PROPN\", \"ADJ\"]\r\n",
        "        self.nlp = nlp\r\n",
        "\r\n",
        "\r\n",
        "    def process(self, text):\r\n",
        "        tokens = self.nlp(text)\r\n",
        "        return ' '.join(token.text for token in tokens if token.pos_ in self.pos)\r\n",
        "\r\n",
        "class ContextRetriever:\r\n",
        "\r\n",
        "    def __init__(self, nlp, numberOfResults):\r\n",
        "        self.nlp = nlp\r\n",
        "        self.numberOfResults = numberOfResults\r\n",
        "\r\n",
        "    def tokenize(self, sentence):\r\n",
        "        return [token.lemma_ for token in self.nlp(sentence)]\r\n",
        "\r\n",
        "\r\n",
        "    def getContext(self, sentences, question):\r\n",
        "        documents = []\r\n",
        "        for sent in sentences:\r\n",
        "            documents.append(self.tokenize(sent))\r\n",
        "\r\n",
        "        bm25 = BM25(documents)\r\n",
        "\r\n",
        "        scores = bm25.get_scores(self.tokenize(question), 1)\r\n",
        "        results = {}\r\n",
        "        for index, score in enumerate(scores):\r\n",
        "            results[index] = score\r\n",
        "\r\n",
        "        sorted_results = {k: v for k, v in sorted(results.items(), key=lambda item: item[1], reverse=True)}\r\n",
        "        results_list = list(sorted_results.keys())\r\n",
        "        final_results = results_list if len(results_list) < self.numberOfResults else results_list[:self.numberOfResults]\r\n",
        "        questionContext = \"\"\r\n",
        "        for final_result in final_results:\r\n",
        "            questionContext = questionContext + \" \".join(documents[final_result])\r\n",
        "        return questionContext\r\n",
        "\r\n"
      ],
      "execution_count": 10,
      "outputs": []
    },
    {
      "cell_type": "code",
      "metadata": {
        "id": "swlEHozYJC1b"
      },
      "source": [
        "import torch\r\n",
        "from transformers import DistilBertTokenizer, DistilBertForQuestionAnswering\r\n",
        "\r\n",
        "\r\n",
        "class AnswerRetriever:\r\n",
        "\r\n",
        "    def getAnswer(self, question, questionContext):\r\n",
        "        distilBertTokenizer = DistilBertTokenizer.from_pretrained('distilbert-base-uncased', return_token_type_ids=True)\r\n",
        "        distilBertForQuestionAnswering = DistilBertForQuestionAnswering.from_pretrained(\r\n",
        "            'distilbert-base-uncased-distilled-squad')\r\n",
        "\r\n",
        "        encodings = distilBertTokenizer.encode_plus(question, questionContext)\r\n",
        "\r\n",
        "        inputIds, attentionMask = encodings[\"input_ids\"], encodings[\"attention_mask\"]\r\n",
        "\r\n",
        "        scoresStart, scoresEnd = distilBertForQuestionAnswering(torch.tensor([inputIds]),\r\n",
        "                                                                attention_mask=torch.tensor([attentionMask]), return_dict = False)\r\n",
        "\r\n",
        "        tokens = inputIds[torch.argmax(scoresStart): torch.argmax(scoresEnd) + 1]\r\n",
        "        answerTokens = distilBertTokenizer.convert_ids_to_tokens(tokens, skip_special_tokens=True)\r\n",
        "        return distilBertTokenizer.convert_tokens_to_string(answerTokens)"
      ],
      "execution_count": 19,
      "outputs": []
    },
    {
      "cell_type": "code",
      "metadata": {
        "id": "uzct21dErVVP"
      },
      "source": [
        "import time"
      ],
      "execution_count": 5,
      "outputs": []
    },
    {
      "cell_type": "code",
      "metadata": {
        "id": "8SebXeBcd-7W"
      },
      "source": [
        "import wikipedia\r\n",
        "import spacy\r\n",
        "import torch\r\n",
        "from gensim.summarization.bm25 import BM25"
      ],
      "execution_count": 6,
      "outputs": []
    },
    {
      "cell_type": "code",
      "metadata": {
        "id": "B6RqVTKTCM5Q",
        "colab": {
          "base_uri": "https://localhost:8080/"
        },
        "outputId": "5bcdfa9d-58ee-4343-e1dd-7cca5b9c6db4"
      },
      "source": [
        "def search_article(movie_name):\r\n",
        "  results = wikipedia.search(movie_name)\r\n",
        "  return results\r\n",
        "search_article('interstellar')"
      ],
      "execution_count": 7,
      "outputs": [
        {
          "output_type": "execute_result",
          "data": {
            "text/plain": [
              "['Interstellar',\n",
              " 'Interstellar (film)',\n",
              " 'Interstellar travel',\n",
              " 'Interstellar medium',\n",
              " 'Cosmic dust',\n",
              " 'Interstellar object',\n",
              " 'Interstellar (soundtrack)',\n",
              " 'The Science of Interstellar',\n",
              " 'Solar System',\n",
              " 'Interstellar probe']"
            ]
          },
          "metadata": {
            "tags": []
          },
          "execution_count": 7
        }
      ]
    },
    {
      "cell_type": "code",
      "metadata": {
        "colab": {
          "base_uri": "https://localhost:8080/",
          "height": 120
        },
        "id": "ol-FtdO0dxEI",
        "outputId": "991ecd51-f61e-4568-9c1c-56dad2b1b3c1"
      },
      "source": [
        "content = ''\r\n",
        "def download_article(movie_name):\r\n",
        "  global content\r\n",
        "  page = wikipedia.page(movie_name)\r\n",
        "  content = page.content\r\n",
        "\r\n",
        "download_article('Interstellar (film)')\r\n",
        "content"
      ],
      "execution_count": 8,
      "outputs": [
        {
          "output_type": "execute_result",
          "data": {
            "application/vnd.google.colaboratory.intrinsic+json": {
              "type": "string"
            },
            "text/plain": [
              "'Interstellar is a 2014 epic science fiction film directed and produced by Christopher Nolan. It stars Matthew McConaughey, Anne Hathaway, Jessica Chastain, Bill Irwin, Ellen Burstyn, John Lithgow, Michael Caine, and Matt Damon. Set in a dystopian future where humanity is struggling to survive, the film follows a group of astronauts who travel through a wormhole near Saturn in search of a new home for mankind.\\nBrothers Christopher and Jonathan Nolan wrote the screenplay, which had its origins in a script Jonathan developed in 2007. Christopher produced Interstellar with his wife, Emma Thomas, through their production company Syncopy, and with Lynda Obst through Lynda Obst Productions. Caltech theoretical physicist and 2017 Nobel laureate in Physics Kip Thorne was an executive producer, acted as scientific consultant, and wrote a tie-in book, The Science of Interstellar. Paramount Pictures, Warner Bros., and Legendary Pictures co-financed the film. Cinematographer Hoyte van Hoytema shot it on 35 mm in the Panavision anamorphic format and IMAX 70 mm. Principal photography began in late 2013 and took place in Alberta (Canada), Iceland and Los Angeles. Interstellar uses extensive practical and miniature effects and the company Double Negative created additional digital effects.\\nInterstellar premiered on October 26, 2014, in Los Angeles, California. In the United States, it was first released on film stock, expanding to venues using digital projectors. The film had a worldwide gross of over $677 million (and $701 million with subsequent re-releases), making it the tenth-highest-grossing film of 2014. Interstellar received positive reviews for its screenplay, direction, themes, visual effects, musical score, emotional depth, acting, and ambition. At the 87th Academy Awards, the film won the Academy Award for Best Visual Effects, and was nominated for Best Original Score, Best Sound Mixing, Best Sound Editing and Best Production Design.\\n\\n\\n== Plot ==\\nIn 2067, crop blights and dust storms threaten humanity\\'s survival. Corn is the last viable crop. The world also regresses into a post-truth society where younger generations are taught false history. Cooper is a widowed engineer and former NASA pilot turned farmer. Living with him are his father-in-law, Donald; his 15-year-old son, Tom Cooper, and 10-year-old daughter, Murphy \"Murph\" Cooper. After a dust storm, strange dust patterns inexplicably appear on Murphy\\'s bedroom floor; she attributes the anomaly to a ghost. Cooper eventually deduces the patterns were caused by gravity variations and that they represent geographic coordinates in binary code. Cooper follows the coordinates to a secret NASA facility headed by Professor John Brand, Cooper\\'s former supervisor. Professor Brand says gravitational anomalies have happened elsewhere. Forty-eight years earlier, unknown beings positioned a wormhole near Saturn, opening a path to a distant galaxy with twelve potentially habitable worlds located near a black hole named Gargantua. Twelve volunteers traveled through the wormhole to individually survey the planets. Astronauts Miller, Edmunds, and Mann reported positive results. Based on their data, Professor Brand conceived two plans to ensure humanity\\'s survival. Plan A involves developing a gravitational propulsion theory to propel settlements into space, while Plan B involves launching the Endurance spacecraft carrying 5,000 frozen human embryos to settle a habitable planet.\\nCooper is recruited to pilot the Endurance. The crew includes scientists Dr. Amelia Brand (Professor Brand\\'s daughter), Dr. Romilly, Dr. Doyle, and robots TARS and CASE. Before leaving, Cooper gives a distraught Murphy his wristwatch to compare their relative time for when he returns. After traversing the wormhole, Romilly studies the black hole while Cooper, Doyle, and Brand descend in a landing craft to investigate Miller\\'s planet, an ocean world covered in knee-high water. After finding wreckage from Miller\\'s ship, Brand disobeys Cooper’s order to re-board immediately because of her insistence in checking the wreckage, leading to the death of Doyle by a gigantic wave (caused by the gravitational pull of the black hole). The landers’ engines flood and take some time to clear, delaying their departure further. Due to the proximity of the black hole, time is severely dilated: as a result, 23 years have elapsed for Romilly on Endurance by the time Cooper and Brand return.\\nEdmunds\\' planet has slightly better telemetry, while Mann broadcasts positive data. Cooper decides to use their remaining fuel to reach Mann\\'s planet, where they revive him from cryostasis. Meanwhile, Murph, now a scientist working with NASA, transmits a message announcing Professor Brand has died. She has learned that Plan A, which required unattainable data from within a black hole, was never viable. Plan B was always Professor Brand\\'s only option. Murphy accuses Brand and Cooper of knowing that those left on Earth were doomed. Cooper subsequently declares that he will be returning to Earth while Brand and Romilly will remain on Mann\\'s planet for permanent habitation as the planet is believed to be habitable. Cooper goes with Mann to explore and inspect the planet. Mann reveals to Cooper that the frozen planet is uninhabitable as he had sent falsified data in order to be rescued; Mann attempts to kill Cooper so that he can take the Endurance to \"complete the mission\" by going to Edmunds\\' planet. He then takes a lander and heads for Endurance. Meanwhile, Romilly is killed by a booby trap left by Mann. Brand and Cooper race to the Endurance in another lander. Mann dies during a failed manual docking operation, severely damaging Endurance. After a difficult docking manoeuver, Cooper regains control of the damaged but functional Endurance.\\n\\nWith insufficient fuel to reach Edmunds\\' planet, they use a slingshot maneuver so close to Gargantua that time dilation adds another 51 years. In the process, Cooper and TARS jettison themselves to shed weight and propel Endurance using Newton\\'s third law to ensure Endurance reaches Edmunds\\' planet. Slipping through the event horizon of Gargantua, they eject from their respective craft and find themselves inside a massive tesseract, constructed by future humans inside the singularity. Across different time periods, Cooper can see through the bookcases of Murphy\\'s old room on Earth and weakly interact with its gravity. Cooper realizes he was Murphy\\'s \"ghost\".\\nDriven by regret of having missed being there for his children and motivated by love that \\'transcends the dimensions of space and time\\', Cooper manipulates the second hand of the wristwatch he gave Murphy, using Morse code to transmit the quantum data that TARS collected from inside the event horizon. Back on Earth and further back in time, Murphy finally realizes it was her father from the future trying to communicate with her and assisted by the aberrant ticking of the seconds hand in her watch, deciphers the Morse code. Cooper and TARS are ejected from the tesseract. Cooper is picked up and awakens on a space habitat orbiting Saturn, where he reunites with an elderly Murphy. Using the quantum data sent by Cooper, the younger Murphy had solved the gravitational propulsion theory for Plan A, enabling humanity\\'s mass exodus and survival. Nearing death and with her own family, Murphy urges Cooper to return to Amelia Brand, telling him that \"no parent should have to watch their own child die\". Cooper and TARS take a spacecraft to rejoin Amelia and CASE on Edmunds\\' habitable planet.\\n\\n\\n== Cast ==\\n\\n\\n== Production ==\\n\\n\\n=== Crew ===\\n\\n\\n=== Development and financing ===\\nThe premise for Interstellar was conceived by producer Lynda Obst and theoretical physicist Kip Thorne, who collaborated on the film Contact (1997), and had known each other since Carl Sagan set them up on a blind date. The two conceived of a scenario, based on Thorne\\'s work, about \"the most exotic events in the universe suddenly becoming accessible to humans,\" and attracted filmmaker Steven Spielberg\\'s interest in directing. The film began development in June 2006, when Spielberg and Paramount Pictures announced plans for a science fiction film based on an eight-page treatment written by Obst and Thorne. Obst was attached to produce. By March 2007, Jonathan Nolan was hired to write a screenplay.After Spielberg moved his production studio DreamWorks from Paramount to Walt Disney Studios in 2009, Paramount needed a new director for Interstellar. Jonathan Nolan recommended his brother Christopher, who joined the project in 2012. Christopher Nolan met with Thorne, then attached as executive producer, to discuss the use of spacetime in the story. In January 2013, Paramount and Warner Bros. announced that Christopher Nolan was in negotiations to direct Interstellar. Nolan said he wanted to encourage the goal of human spaceflight, and intended to merge his brother\\'s screenplay with his own. By the following March, Nolan was confirmed to direct Interstellar, which would be produced under his label Syncopy and Lynda Obst Productions. The Hollywood Reporter said Nolan would earn a salary of $20 million against 20% of the total gross. To research for the film, Nolan visited NASA and the private space program at SpaceX.Warner Bros. sought a stake in Nolan\\'s production of Interstellar from Paramount, despite their traditional rivalry, and agreed to give Paramount its rights to co-finance the next film in the Friday the 13th horror franchise, with a stake in a future film based on the TV series South Park. Warner Bros. also agreed to let Paramount co-finance an indeterminate \"A-list\" property. In August 2013, Legendary Pictures finalized an agreement with Warner Bros. to finance approximately 25% of the film\\'s production. Although it failed to renew its eight-year production partnership with Warner Bros., Legendary reportedly agreed to forego financing Batman v Superman: Dawn of Justice (2016) in exchange for the stake in Interstellar.\\n\\n\\n=== Writing and casting ===\\n\\nScreenwriter Jonathan Nolan worked on the script for four years. To learn the scientific aspects, he studied relativity at the California Institute of Technology. Jonathan was pessimistic about the Space Shuttle program ending and how NASA lacked financing for a human mission to Mars, drawing inspiration from science fiction films with apocalyptic themes, such as WALL-E (2008) and Avatar (2009). Jeff Jensen of Entertainment Weekly commented: \"He set the story in a dystopian future ravaged by blight but populated with hardy folk who refuse to bow to despair.\" His brother Christopher had worked on other science fiction scripts, but decided to take the Interstellar script and choose among the vast array of ideas presented by Jonathan and Thorne, picking what he felt, as director, he could get \"across to the audience and hopefully not lose them,\" before he merged it with a script he had worked on for years on his own. Christopher kept in place Jonathan\\'s conception of the first hour, which is set on a resource depleted Earth in the near future. The setting was inspired by the Dust Bowl that took place in the United States during the Great Depression in the 1930s. He revised the rest of the script, where a team travels into space, instead. After watching the 2012 documentary The Dust Bowl for inspiration, Christopher contacted director Ken Burns and producer Dayton Duncan, requesting permission to use some of their featured interviews in Interstellar, which was granted.Christopher Nolan wanted an actor who could bring to life his vision of the main character as an everyman with whom \"the audience could experience the story.\" He became interested in casting Matthew McConaughey after watching him in an early cut of the 2012 film Mud, which he had seen as a friend of one of its producers, Aaron Ryder. Nolan went to visit McConaughey while he was filming for the TV series True Detective. Anne Hathaway was invited to Nolan\\'s home, where she read the script for Interstellar. In early 2013, both actors were cast in the starring roles. Jessica Chastain was contacted while she was working on Miss Julie (2014) in Northern Ireland, and a script was delivered to her. Originally, Irrfan Khan was offered the role of Dr. Mann, but rejected due to scheduling conflicts. Matt Damon was cast as Mann in late August 2013 and completed filming his scenes in Iceland.\\n\\n\\n=== Principal photography ===\\nNolan filmed Interstellar on 35 mm film in the Panavision anamorphic format and IMAX 70 mm photography. Cinematographer Hoyte van Hoytema was hired for Interstellar, as Wally Pfister, Nolan\\'s cinematographer on all of his past films, was making his directorial debut working on Transcendence (2014). More IMAX cameras were used for Interstellar than for any of Nolan\\'s previous films. To minimize the use of computer-generated imagery (CGI), the director had practical locations built, such as the interior of a space shuttle. Van Hoytema retooled an IMAX camera to be hand held for shooting interior scenes. Some of the film\\'s sequences were shot with an IMAX camera installed in the nosecone of a Learjet.Nolan, who is known for keeping details of his productions secret, strove to ensure secrecy for Interstellar. Writing for The Wall Street Journal, Ben Fritz stated, \"The famously secretive filmmaker has gone to extreme lengths to guard the script to ... Interstellar, just as he did with the blockbuster Dark Knight trilogy.\" As one security measure, Interstellar was filmed under the name Flora\\'s Letter, Flora being one of Nolan\\'s four children with producer Emma Thomas.\\n\\nThe film\\'s principal photography was scheduled to last four months. It began on August 6, 2013, in the province of Alberta, Canada. Towns in Alberta where shooting took place included Nanton, Longview, Lethbridge, Fort Macleod, and Okotoks. In Okotoks, filming took place at the Seaman Stadium and the Olde Town Plaza. For a cornfield scene, production designer Nathan Crowley planted 500 acres (200 ha) of corn that would be destroyed in an apocalyptic dust storm scene, intended to be similar to storms experienced during the Dust Bowl in 1930s America. Additional scenes involving the dust storm and McConaughey\\'s character were also shot in Fort Macleod, where the giant dust clouds were created on location using large fans to blow cellulose-based synthetic dust through the air. Filming in the province lasted until September 9, 2013, and involved hundreds of extras in addition to 130 crew members, most of whom were local. Shooting also took place in Iceland, where Nolan had previously filmed scenes for Batman Begins (2005). The location was chosen to represent two extraterrestrial planets: one covered in ice, and the other in water. The crew transported mock spaceships weighing about 4,500 kilograms (10,000 lb) to the country. They spent two weeks shooting there, during which a crew of approximately 350 people, including 130 locals, worked on the film. Locations included the Svínafellsjökull glacier and the town of Klaustur. While filming a water scene in Iceland, Hathaway almost suffered hypothermia because the dry suit she was wearing had not been properly secured.After the schedule in Iceland was completed, the crew moved to Los Angeles to shoot for 54 days. Filming locations included the Westin Bonaventure Hotel and Suites, the Los Angeles Convention Center, a Sony Pictures soundstage in Culver City, and a private residence in Altadena, California. Principal photography concluded in December 2013. Production had a budget of $165 million, $10 million less than was allotted by Paramount, Warner Bros., and Legendary Pictures.\\n\\n\\n=== Production design ===\\n\\nInterstellar features three spacecraft—the Ranger, the Endurance, and the Lander. The Ranger\\'s function is similar to the Space Shuttle\\'s, being able to enter and exit planetary atmospheres. The Endurance, the crew\\'s mother ship, has a circular structure formed by 12 capsules—four with planetary settling equipment, four with engines, and four with the permanent functions of cockpit, medical labs, and habitation. Production designer Nathan Crowley said the Endurance was based on the International Space Station: \"It\\'s a real mish-mash of different kinds of technology. You need analogue stuff as well as digital stuff, you need back-up systems and tangible switches. It\\'s really like a submarine in space. Every inch of space is used, everything has a purpose.\" Lastly, the Lander transports the capsules with settling equipment to planetary surfaces. Crowley compared it to \"a heavy Russian helicopter.\"The film also features two robots, CASE and TARS, as well as a dismantled third robot, KIPP. Nolan wanted to avoid making the robots anthropomorphic and chose a 1.5 m (4.9 ft) quadrilateral design. The director said: \"It has a very complicated design philosophy. It\\'s based on mathematics. You\\'ve got four main blocks and they can be joined in three ways. So you have three combinations you follow. But then within that, it subdivides into a further three joints. And all the places we see lines—those can subdivide further. So you can unfold a finger, essentially, but it\\'s all proportional.\" Actor Bill Irwin voiced and physically controlled both robots, but his image was digitally removed from the film, and actor Josh Stewart\\'s voice replaced his voicing for CASE. The human space habitats resemble O\\'Neill cylinders, a theoretical space habitat model proposed by physicist Gerard K. O\\'Neill in 1976.\\n\\n\\n=== Sound design and music ===\\n\\nGregg Landaker and Gary Rizzo were the film\\'s audio engineers tasked with audio mixing, while sound editor Richard King supervised the process. Christopher Nolan sought to mix the sound to take maximum advantage of theater equipment and paid close attention to designing the sound mix, like focusing on the sound of buttons being pressed with astronaut suit gloves. The studio\\'s website stated that the film was \"mixed to maximize the power of the low-end frequencies in the main channels, as well as in the subwoofer channel.\" Nolan deliberately intended some dialogue to seem drowned out by ambient noise or music, causing some theaters to post notices emphasizing that this effect was intentional and not a fault in their equipment.Composer Hans Zimmer, who scored Nolan\\'s The Dark Knight Trilogy and Inception (2010), returned to score Interstellar. Nolan chose not to provide Zimmer with a script or any plot details for writing the film\\'s music, but instead gave the composer a single page that told the story of a father leaving his child for work. It was through this connection that Zimmer created the early stages of the Interstellar soundtrack. Zimmer and Nolan later decided that a 1926 four-manual Harrison & Harrison organ would be the primary instrument for the score. Zimmer conducted 45 scoring sessions for Interstellar, three times more than for Inception. The soundtrack was released on November 18, 2014.\\n\\n\\n=== Visual effects ===\\nThe visual effects company Double Negative, which worked on Inception, was brought back for Interstellar. According to visual effects supervisor Paul Franklin, the number of effects in the film was not much greater than in Nolan\\'s The Dark Knight Rises (2012) or Inception. However, for Interstellar they created the effects first, allowing digital projectors to display them behind the actors, rather than having the actors perform in front of green screens. Ultimately the film contained 850 visual effect shots at a resolution of 5600 × 4000 lines: 150 shots that were created in-camera using digital projectors, and another 700 were created in post-production. Of those, 620 were presented in IMAX, while the rest were anamorphic.The Ranger, Endurance, and Lander spacecraft were created using miniature effects by Nathan Crowley in collaboration with effects company New Deal Studios, as opposed to using computer generated imagery, as Nolan felt they offered the best way to give the ships a tangible presence in space. 3D printed and hand sculpted, the scale models earned the nickname \"maxatures\" by the crew due to their immense size; the 1/15th-scale miniature of the Endurance module spanned over 7.6 m (25 ft), while a pyrotechnic model of part of the craft was built at 1/5th scale. The Ranger and Lander miniatures spanned 14 m (46 ft) and over 15 m (49 ft), respectively, and were large enough for van Hoytema to mount IMAX cameras directly onto the spacecraft, thus mimicking the look of NASA IMAX documentaries. The models were then attached to a six-axis gimbal on a motion control system that allowed an operator to manipulate their movements, which were filmed against background plates of space using VistaVision cameras on a smaller motion control rig. New Deal Studio\\'s miniatures were used in 150 special effects shots.\\n\\n\\n== Influences ==\\nThe director was influenced by what he called \"key touchstones\" of science fiction cinema, including Metropolis (1927), 2001: A Space Odyssey (1968), Blade Runner (1982), Star Wars (1977) and Alien (1979). Andrei Tarkovsky\\'s The Mirror (1975) influenced \"elemental things in the story to do with wind and dust and water\", according to Nolan, who also compared Interstellar to The Treasure of the Sierra Madre (1948) as a film about human nature. He sought to emulate films like Steven Spielberg\\'s Jaws (1975) and Close Encounters of the Third Kind (1977) for being family-friendly but also \"as edgy and incisive and challenging as anything else on the blockbuster spectrum\". He screened The Right Stuff (1983) for the crew before production, following in its example by capturing reflections on the Interstellar astronauts\\' visors. For further inspiration, the director invited former astronaut Marsha Ivins to the set. Nolan and his crew studied the IMAX NASA documentaries of filmmaker Toni Myers for visual reference of spacefaring missions, and strove to imitate their use of IMAX cameras in the enclosed spaces of spacecraft interiors. Clark Kent\\'s upbringing in Man of Steel (2013) was the inspiration for the farm setting in the Midwest. Apart from films, Nolan drew inspiration from the architecture of Ludwig Mies van der Rohe.\\n\\n\\n== Scientific accuracy ==\\n\\nRegarding the concepts of wormholes and black holes, Kip Thorne stated that he \"worked on the equations that would enable tracing of light rays as they traveled through a wormhole or around a black hole—so what you see is based on Einstein\\'s general relativity equations.\" Early in the process, Thorne laid down two guidelines: \"First, that nothing would violate established physical laws. Second, that all the wild speculations ... would spring from science and not from the fertile mind of a screenwriter.\" Nolan accepted these terms as long as they did not get in the way of making the film. At one point, Thorne spent two weeks trying to talk Nolan out of an idea about a character traveling faster than light before Nolan finally gave up. According to Thorne, the element which has the highest degree of artistic freedom is the clouds of ice on one of the planets they visit, which are structures that would go beyond the material strength that ice could support.Astrobiologist David Grinspoon criticized the dire \"blight\" situation on Earth portrayed in the early scenes, pointing out that even with a voracious blight it would have taken millions of years to reduce the atmosphere\\'s oxygen content. He also notes that gravity should have pulled down the ice clouds. Neil deGrasse Tyson, an astrophysicist, explored the science behind the ending of Interstellar, concluding that it is theoretically possible to interact with the past, and that \"we don\\'t really know what\\'s in a black hole, so take it and run with it.\" Theoretical physicist Michio Kaku praised the film for its scientific accuracy and has said Interstellar \"could set the gold standard for science fiction movies for years to come.\" Similarly, Timothy Reyes, a former NASA software engineer, said \"Thorne\\'s and Nolan\\'s accounting of black holes and wormholes and the use of gravity is excellent.\"\\n\\n\\n=== Wormholes and black holes ===\\nTo create the visual effects for the wormhole and a rotating, supermassive black hole (possessing an ergosphere, as opposed to a non-rotating black hole), Thorne collaborated with Franklin and a team of 30 people at Double Negative, providing pages of deeply sourced theoretical equations to the engineers, who then wrote new CGI rendering software based on these equations to create accurate simulations of the gravitational lensing caused by these phenomena. Some individual frames took up to 100 hours to render, totaling 800 terabytes of data. Thorne described the accretion disk of the black hole as \"anemic and at low temperature—about the temperature of the surface of the sun,\" allowing it to emit appreciable light, but not enough gamma radiation and X-rays to threaten nearby astronauts and planets. The resulting visual effects provided Thorne with new insight into the gravitational lensing and accretion disks surrounding black holes, resulting in the publication of three scientific papers.\\n\\nChristopher Nolan was initially concerned that a scientifically accurate depiction of a black hole would not be visually comprehensible to an audience, and would require the effects team to unrealistically alter its appearance. The visual representation of the black hole in the film does not account for the Doppler effect which, when added by the visual effects team, resulted in an asymmetrically lit black and blue-black hole, the purpose of which Nolan thought the audience would not understand. As a result, it was omitted in the finished product. Nolan found the finished effect to be understandable, as long as he maintained consistent camera perspectives.As a reference, the asymmetric brightness of the accretion disk is very well visible in the first image of the event horizon of a black hole obtained by the Event Horizon Telescope team in 2019. Futura-Sciences praised the correct depiction of the Penrose process.According to Space.com, the portrayal of what a wormhole would look like is considered scientifically correct. Rather than a two-dimensional hole in space, it is depicted as a sphere, showing a distorted view of the target galaxy.\\n\\n\\n== Marketing ==\\nThe teaser trailer for Interstellar debuted December 13, 2013, and featured clips related to space exploration, accompanied by a voiceover by Matthew McConaughey\\'s character Coop. The theatrical trailer debuted May 5, 2014, at the Lockheed Martin IMAX Theater in Washington, D.C. and was made available online later that month. For the week ending May 19, it was the most-viewed film trailer, with over 19.5 million views on YouTube.Christopher Nolan and McConaughey made their first appearances at San Diego Comic-Con in July 2014 to promote Interstellar. That same month, Paramount Pictures launched an interactive website, on which users uncovered a star chart related to the Apollo 11 moon landing.In October 2014, Paramount partnered with Google to promote Interstellar across multiple platforms. The film\\'s website was relaunched as a digital hub hosted on a Google domain, which collected feedback from film audiences, and linked to a mobile app. It featured a game in which players could build solar system models and use a flight simulator for space travel. The Paramount–Google partnership also included a virtual time capsule compiled with user-generated content, made available in 2015. The initiative Google for Education used the film as a basis for promoting math and science lesson plans in schools.Paramount provided a virtual reality walkthrough of the Endurance spacecraft using Oculus Rift technology. It hosted the walkthrough sequentially in New York City, Houston, Los Angeles, and Washington, D.C., from October 6 through November 19, 2014. The publisher Running Press released Interstellar: Beyond Time and Space, a book by Mark Cotta Vaz about the making of the film, on November 11. W. W. Norton & Company released The Science of Interstellar, a book by Thorne; Titan Books released the official novelization, written by Greg Keyes; and Wired magazine released a tie-in online comic, Absolute Zero, written by Christopher Nolan and drawn by Sean Gordon Murphy. The comic is a prequel to the film, with Mann as the protagonist.\\n\\n\\n== Release ==\\n\\n\\n=== Theatrical run ===\\nBefore Interstellar\\'s public release, Paramount CEO Brad Grey hosted a private screening on October 19, 2014, at an IMAX theater in Lincoln Square, Manhattan. Paramount then showed Interstellar to some of the industry\\'s filmmakers and actors in a first-look screening at the California Science Center on October 22. On the following day, the film was screened at the TCL Chinese Theatre in Los Angeles, California for over 900 members of the Screen Actors Guild. The film premiered on October 26 at the TCL Chinese Theatre in Los Angeles, and in Europe on October 29 at the Odeon Leicester Square in London. The film premiered on November 7 in Canada.Interstellar was released early on November 4 in various 70 mm IMAX film, 70 mm film and 35 mm film theaters, and had a limited release in North America (United States and Canada) on November 5, with a wide release on November 7. The film was released in Belgium, France, and Switzerland on November 5, the United Kingdom on November 7 and in additional territories in the following days. For the limited North American release, Interstellar was projected from 70 mm and 35 mm film in 249 theaters that still supported those formats, including at least forty-one 70 mm IMAX theaters. A 70 mm IMAX projector was installed at the TCL Chinese Theatre in Los Angeles to display the format. The film\\'s wide release expanded to theaters that showed it digitally. Paramount Pictures distributed the film in North America, and Warner Bros. distributed it in the remaining territories. The film was released in over 770 IMAX screens worldwide, which was the largest global release in IMAX cinemas, until surpassed by Universal Pictures\\' Furious 7 (2015) with 810 IMAX theaters.Interstellar was an exception to Paramount Pictures\\' goal to stop releasing films on film stock and to distribute them only in digital format. According to Pamela McClintock of The Hollywood Reporter, the initiative to project Interstellar on film stock would help preserve an endangered format, which was supported by Christopher Nolan, J. J. Abrams, Quentin Tarantino, Judd Apatow, Paul Thomas Anderson, and other filmmakers. McClintock reported that theatre owners saw this as \"backward,\" as nearly all theatres in the US had been converted to digital projection.\\n\\n\\n=== Home media ===\\nInterstellar was released on home video on March 31, 2015, in both the United Kingdom and United States. It topped the home video sales chart for a total of two weeks. It was reported that Interstellar was the most pirated film of 2015, with an estimated 46.7 million downloads on BitTorrent. It was released in the Ultra HD Blu-ray format on December 19, 2017.\\n\\n\\n== Reception ==\\n\\n\\n=== Box office ===\\nInterstellar grossed $188 million in the US and Canada, and $489.4 million in other countries, for a worldwide total of $677.4 million against a production budget of $165 million. After calculating all expenses, Deadline Hollywood estimated the film made a profit of $47.2 million. It sold an estimated 22 million tickets domestically.The film set an IMAX opening record worldwide with $20.5 million from 574 IMAX theaters, surpassing the $17.1 million record held by The Hunger Games: Catching Fire (2013), and is also the best opening for an IMAX 2D, non-sequel, and November IMAX release. It had a worldwide opening of $132.6 million, which was the tenth-largest opening of 2014, and it became the tenth-highest-grossing film of 2014. Interstellar is the fourth film to gross over $100 million worldwide from IMAX ticket sales. Interstellar was released in the UK, Ireland and Malta on November 6, 2014, and debuted at number one earning £5.37 million ($8.6 million) in its opening weekend, which was lower than the openings of The Dark Knight Rises (£14.36 million), Gravity (£6.24 million), and Inception (£5.91 million). The film was released in 35 markets on the same day, including major markets like Germany, Russia, Australia, and Brazil earning $8.7 million in total. Through Sunday, it earned an opening weekend total of $82.9 million from 11.1 million admissions from over 14,800 screens in 62 markets. It earned $7.3 million from 206 IMAX screens, at an average of 35,400 viewers per theater. It went to number one in South Korea ($14.4 million), Russia ($8.9 million), and France ($5.3 million). Other strong openings occurred in Germany ($4.6 million), India ($4.3 million), Italy ($3.7 million), Australia ($3.7 million), Spain ($2.7 million), Mexico ($3.1 million), and Brazil ($1.9 million). Interstellar was released in China on November 12 and earned $5.4 million on its opening day on Wednesday, which is Nolan\\'s biggest opening in China after surpassing the $4.61 million opening record of The Dark Knight Rises. It went on to earn $41.7 million in its opening weekend, accounting for 55% of the market share. It is Nolan\\'s biggest opening in China, Warner Bros.\\' biggest 2D opening, and the studio\\'s third-biggest opening of all time, behind 2014\\'s The Hobbit: The Battle of the Five Armies ($49.5 million) and 2013\\'s Pacific Rim ($45.2 million).It topped the box office outside North America for two consecutive weekends before being overtaken by The Hunger Games: Mockingjay – Part 1 (2014) in its third weekend. Just 31 days after its release, the film became the 13th-most-successful film and 3rd-most-successful foreign film in South Korea with 9.1 million admissions trailing only Avatar (13.3 million admissions), and 2013\\'s Frozen (10.3 million admissions). The film closed down its theatrical run in China on December 12, with total revenue of $122.6 million. In total earnings, its largest markets outside North America and China were South Korea ($73.4 million), the UK, Ireland and Malta ($31.3 million), and Russia and the Commonwealth of Independent States (CIS) ($19 million). Interstellar and Big Hero 6 opened the same weekend (November 7–9, 2014) in the US and Canada. Both were forecast to earn between $55 million and $60 million. In North America, the film is the seventh-highest-grossing film to not hit No. 1, with a top rank of No. 2 on its opening weekend. Interstellar had an early limited release in the US and Canada in selected theaters on November 4 at 8:00 pm, coinciding with the 2014 US midterm elections. It topped the box office the following day, earning $1.35 million from 249 theaters (42 of which were IMAX screens); IMAX accounted for 62% of its total gross. Two hundred and forty of those theaters played in 35 mm, 70 mm, and IMAX 70 mm film formats. It earned $3.6 million from late-night shows for a previews total of $4.9 million. The film was widely released on November 7 and topped the box office on its opening day, earning $17 million ahead of Big Hero 6 ($15.8 million). On its opening weekend, the film earned $47.5 million from 3,561 theaters, debuting in second place after a neck-and-neck competition with Disney\\'s Big Hero 6 ($56.2 million). IMAX comprised $13.2 million (28%) of its opening weekend gross, while other premium large-format screens comprised $5.3 million (10.5%) of the gross. In its second weekend, the film fell to No. 3 behind old rival Big Hero 6 and newcomer Dumb and Dumber To (2014), and dropped 39% earning $29.1 million for a two-weekend total of $97.8 million. It earned $7.4 million from IMAX theaters from 368 screens in its second weekend. In its third week, the film earned $15.1 million and remained at No. 3, below newcomer The Hunger Games: Mockingjay – Part 1 and Big Hero 6.\\n\\n\\n=== Critical response ===\\nOn review aggregator Rotten Tomatoes, 72% of 364 critic reviews are positive, with an average rating of 7.08/10. The website\\'s critics consensus reads, \"Interstellar represents more of the thrilling, thought-provoking, and visually resplendent filmmaking moviegoers have come to expect from writer-director Christopher Nolan, even if its intellectual reach somewhat exceeds its grasp.\" Metacritic, which uses a weighted average, assigned the film a score of 74 out of 100 based on 46 critics, indicating \"generally favorable reviews\". Audiences polled by CinemaScore gave the film an average grade of \"B+\" on an A+ to F scale.Scott Foundas, chief film critic at Variety, said that Interstellar is \"as visually and conceptually audacious as anything Nolan has yet done\" and considered the film \"more personal\" than Nolan\\'s previous films. Claudia Puig of USA Today praised the visual spectacle and powerful themes, while criticizing the \"dull\" dialogue and \"tedious patches inside the space vessel.\" David Stratton of At the Movies rated the film four-and-a-half stars out of five, commending its ambition, effects, and 70 mm IMAX presentation, though criticizing the sound for \"being so loud\" as to make some of the dialogue \"inaudible\". Conversely, co-host Margaret Pomeranz rated the film three out of five, as she felt the human drama got lost among the film\\'s scientific concepts. Henry Barnes of The Guardian scored the film three out of five stars, calling it \"a glorious spectacle, but a slight drama, with few characters and too-rare flashes of humour.\" James Berardinelli called Interstellar \"an amazing achievement\" and \"simultaneously a big-budget science fiction endeavor and a very simple tale of love and sacrifice. It is by turns edgy, breathtaking, hopeful, and heartbreaking.\" He named it the best film of 2014, and the second-best movie of the decade, deeming it a \"real science fiction rather than the crowd-pleasing, watered-down version Hollywood typically offers\".\\n\\nOliver Gettell of the Los Angeles Times reported that \"film critics largely agree that Interstellar is an entertaining, emotional, and thought-provoking sci-fi saga, even if it can also be clunky and sentimental at times.\" James Dyer of Empire awarded the film a full five stars, describing it as \"brainy, barmy, and beautiful to behold ... a mind-bending opera of space and time with a soul wrapped up in all the science.\" Dave Calhoun of Time Out London also granted the film a maximum score of five stars, stating that it is \"a bold, beautiful cosmic adventure story with a touch of the surreal and the dreamlike.\" New York Post critic Lou Lumenick deemed Interstellar \"a soulful, must-see masterpiece, one of the most exhilarating film experiences so far this century.\" Richard Roeper of Chicago Sun-Times awarded the film a full four stars and wrote, \"This is one of the most beautiful films I have ever seen—in terms of its visuals, and its overriding message about the powerful forces of the one thing we all know but can\\'t measure in scientific terms. Love.\"Describing Nolan as a \"merchant of awe,\" Tim Robey of The Telegraph thought that Interstellar was \"agonisingly\" close to a masterpiece, highlighting the conceptual boldness and \"deep-digging intelligence\" of the film. Todd McCarthy of The Hollywood Reporter wrote, \"This grandly conceived and executed epic tries to give equal weight to intimate human emotions and speculation about the cosmos, with mixed results, but is never less than engrossing, and sometimes more than that.\" In his review for the Associated Press, Jake Coyle praised the film for its \"big-screen grandeur,\" while finding some of the dialogue \"clunky.\" He described it further as \"an absurd endeavor\" and \"one of the most sublime movies of the decade.\" Scott Mendelson of Forbes listed Interstellar as one of the most disappointing films of 2014, stating that the film \"has a lack of flow, loss of momentum following the climax, clumsy sound mixing,\" and \"thin characters\" despite seeing the film twice in order to \"give it a second chance.\" He wrote that Interstellar \"ends up as a stripped-down and somewhat muted variation on any number of \\'go into space to save the world\\' movies.\" Matt Zoller Seitz of RogerEbert.com gave the film three-and-a-half out of four stars, saying that despite his usual quibbles regarding Nolan\\'s excessive dialogue and its lack of a sense of composition, \"[Interstellar] is still an impressive, at times astonishing movie that overwhelmed me to the point where my usual objections to Nolan\\'s work melted away ... At times, the movie\\'s one-stop-shopping storytelling evokes the tough-tender spirit of a John Ford picture, ... a movie that would rather try to be eight or nine things than just one.\"The New York Times columnist David Brooks concludes that Interstellar explores the relationships among \"science and faith and science and the humanities\" and \"illustrates the real symbiosis between these realms.\" Wai Chee Dimock, in the Los Angeles Review of Books, wrote that Nolan\\'s films are \"rotatable at 90, 180, and 360 degrees,\" and that \"although there is considerable magical thinking here, making it almost an anti-sci-fi film, holding out hope that the end of the planet is not the end of everything, it reverses itself, however, when that magic falls short, when the poetic license is naked and plain for all to see.\" Author George R. R. Martin called Interstellar \"the most ambitious and challenging science fiction film since Kubrick\\'s 2001.\" In 2020, Empire magazine ranked it as one of the best films of the 21st century.\\n\\n\\n=== Accolades ===\\n\\nInterstellar won the Best Visual Effects award at the 87th Academy Awards, with nominations for Best Original Score, Best Production Design, Best Sound Editing, and Best Sound Mixing.\\n\\n\\n== See also ==\\n\\n\\n== Notes ==\\n\\n\\n== References ==\\n\\n\\n== Further reading ==\\nThorne, Kip (November 7, 2014). The Science of Interstellar. Book about the science behind the film. W. W. Norton & Company. ISBN 978-0-393-35137-8.\\nKeyes, Greg (November 11, 2014). Interstellar: The Official Movie Novelization. Titan Books. ISBN 978-1783293698.\\nVaz, Mark Cotta (November 11, 2014). Interstellar: Beyond Time and Space. Book about the making of the film. Running Press. ISBN 978-0-7624-5683-3.\\nMacKay, John. \"On Interstellar (2014) (preliminary notes)\"\\n\\n\\n== External links ==\\nInterstellar at IMDb\\nInterstellar at AllMovie\\nInterstellar at the TCM Movie Database\\nInterstellar at the American Film Institute Catalog\\nInterstellar at Metacritic\\nInterstellar at Rotten Tomatoes\\nInterstellar at Box Office Mojo'"
            ]
          },
          "metadata": {
            "tags": []
          },
          "execution_count": 8
        }
      ]
    },
    {
      "cell_type": "code",
      "metadata": {
        "colab": {
          "base_uri": "https://localhost:8080/"
        },
        "id": "Yw8FYpwXe7WE",
        "outputId": "e8fae878-cd5f-4068-d713-8fa9e5c101b6"
      },
      "source": [
        "def ask_question(question, content):\r\n",
        "  nlp = spacy.load('en_core_web_sm')\r\n",
        "  a = time.perf_counter()\r\n",
        "  nlp.add_pipe(nlp.create_pipe('sentencizer'))\r\n",
        "  doc = nlp(content)\r\n",
        "  sentences = [sent.string.strip() for sent in doc.sents]\r\n",
        "  questionProcessor = QuestionProcessor(nlp)\r\n",
        "  contextRetriever = ContextRetriever(nlp, 10)\r\n",
        "  answerRetriever = AnswerRetriever()\r\n",
        "\r\n",
        "  originalQuestion = question\r\n",
        "  questionContext = contextRetriever.getContext(sentences, questionProcessor.process(originalQuestion))\r\n",
        "  answer = answerRetriever.getAnswer(originalQuestion, questionContext)\r\n",
        "  print('time taken to answer:', time.perf_counter() - a)\r\n",
        "  return answer\r\n",
        "\r\n",
        "print('Answer is:', ask_question('Which stars are there?', content))"
      ],
      "execution_count": 38,
      "outputs": [
        {
          "output_type": "stream",
          "text": [
            "time taken to answer: 9.942099168999903\n",
            "Answer is: matthew mcconaughey , anne hathaway , jessica chastain , bill irwin , ellen burstyn , john lithgow , michael caine , and matt damon\n"
          ],
          "name": "stdout"
        }
      ]
    },
    {
      "cell_type": "markdown",
      "metadata": {
        "id": "j2KCGnfDpk-V"
      },
      "source": [
        "taking approx 10 sec to answer"
      ]
    }
  ]
}